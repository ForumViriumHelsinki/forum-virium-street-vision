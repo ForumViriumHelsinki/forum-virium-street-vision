{
 "cells": [
  {
   "cell_type": "markdown",
   "id": "a25bba11-e3a9-4c71-9875-3f44a9a47ad8",
   "metadata": {},
   "source": [
    "# Stab targets-to-labels-list.json\n",
    "\n",
    "Basically, edit it from `[{ image: <image-name>, label: <label-name>, frame: number }]` to `{ <label-name>: { image: <image-name>, frame: number }}}`"
   ]
  },
  {
   "cell_type": "code",
   "execution_count": 21,
   "id": "2ea8ea97-6fb9-4636-8aac-c7d3dc7e41d5",
   "metadata": {},
   "outputs": [],
   "source": [
    "import json"
   ]
  },
  {
   "cell_type": "code",
   "execution_count": 23,
   "id": "dba80e8b-8dbf-41ed-abb1-6481cd70ff37",
   "metadata": {
    "tags": []
   },
   "outputs": [],
   "source": [
    "tlmap = None\n",
    "with open('./targets-to-labels-list.json') as tlmap_json:\n",
    "    tlmap = json.load(tlmap_json)\n",
    "\n",
    "newmap = {}\n",
    "for item in tlmap:\n",
    "    key = item['label'].replace('.JPG', '.png')\n",
    "    newmap[key] = { 'image': item['image'], 'frame': item['frame'] }"
   ]
  },
  {
   "cell_type": "code",
   "execution_count": 15,
   "id": "a035c282-a29f-4b07-90ec-e63c70b71ae6",
   "metadata": {},
   "outputs": [],
   "source": [
    "with open('labels-to-targets-map.json', 'w+') as outfile:\n",
    "    json.dump(newmap, outfile)"
   ]
  },
  {
   "cell_type": "code",
   "execution_count": 26,
   "id": "135abb43-dedf-4148-8018-7b07d836c535",
   "metadata": {},
   "outputs": [
    {
     "name": "stdout",
     "output_type": "stream",
     "text": [
      "{'label': '20210914-kruununhaka_GSAE0447.JPG', 'image': '20210914-kruununhaka_GSAE0447.JPG', 'frame': 277}\n"
     ]
    }
   ],
   "source": [
    "with open('./targets-to-labels-list.json') as tlmap_json:\n",
    "    tlmap = json.load(tlmap_json)\n",
    "    for item in tlmap:\n",
    "        if item[\"image\"] == \"20210914-kruununhaka_GSAE0447.JPG\":\n",
    "            print(item)"
   ]
  },
  {
   "cell_type": "code",
   "execution_count": 27,
   "id": "41cc70cf-6b6f-4264-83c6-7281af4bb933",
   "metadata": {},
   "outputs": [
    {
     "name": "stdout",
     "output_type": "stream",
     "text": [
      "{'label': '20210914-kruununhaka_GSAI1012.JPG', 'image': '20210914-kruununhaka_GSAI1012.JPG', 'frame': 842}\n"
     ]
    }
   ],
   "source": [
    "with open('./targets-to-labels-list.json') as tlmap_json:\n",
    "    tlmap = json.load(tlmap_json)\n",
    "    for item in tlmap:\n",
    "        if item[\"image\"] == \"20210914-kruununhaka_GSAI1012.JPG\":\n",
    "            print(item)"
   ]
  },
  {
   "cell_type": "code",
   "execution_count": 29,
   "id": "17689f57-3b43-467c-85af-c7583884ed42",
   "metadata": {},
   "outputs": [
    {
     "name": "stdout",
     "output_type": "stream",
     "text": [
      "{'image': '20210914-kruununhaka_GSAI1012.JPG', 'frame': 842}\n",
      "Key: 20210914-kruununhaka_GSAE0447.png, value: {'image': '20210914-kruununhaka_GSAE0447.JPG', 'frame': 277}\n"
     ]
    }
   ],
   "source": [
    "with open('./labels-to-targets-map.json') as tlmap_json:\n",
    "    tlmap = json.load(tlmap_json)\n",
    "    print(tlmap[\"20210914-kruununhaka_GSAI1012.png\"])\n",
    "    for key, value in tlmap.items():\n",
    "        if value[\"image\"] == \"20210914-kruununhaka_GSAE0447.JPG\":\n",
    "            print(f'Key: {key}, value: {value}')"
   ]
  },
  {
   "cell_type": "code",
   "execution_count": null,
   "id": "c14cc96d-81e0-4a84-8ad5-eb1444a313d3",
   "metadata": {},
   "outputs": [],
   "source": [
    "with open('./labels-to-targets-map.json') as tlmap_json:\n",
    "    tlmap = json.load(tlmap_json)\n",
    "    print(tlmap[\"20210914-kruununhaka_GSAI1012.png\"])\n",
    "    for key, value in tlmap.items():\n",
    "        if value[\"image\"] == \"20210914-kruununhaka_GSAE0447.JPG\":\n",
    "            print(f'Key: {key}, value: {value}')"
   ]
  }
 ],
 "metadata": {
  "kernelspec": {
   "display_name": "Python 3 (ipykernel)",
   "language": "python",
   "name": "python3"
  },
  "language_info": {
   "codemirror_mode": {
    "name": "ipython",
    "version": 3
   },
   "file_extension": ".py",
   "mimetype": "text/x-python",
   "name": "python",
   "nbconvert_exporter": "python",
   "pygments_lexer": "ipython3",
   "version": "3.8.12"
  }
 },
 "nbformat": 4,
 "nbformat_minor": 5
}
